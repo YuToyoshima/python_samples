{
  "nbformat": 4,
  "nbformat_minor": 0,
  "metadata": {
    "colab": {
      "provenance": [],
      "include_colab_link": true
    },
    "kernelspec": {
      "name": "python3",
      "display_name": "Python 3"
    }
  },
  "cells": [
    {
      "cell_type": "markdown",
      "metadata": {
        "id": "view-in-github",
        "colab_type": "text"
      },
      "source": [
        "<a href=\"https://colab.research.google.com/github/YuToyoshima/python_samples/blob/main/pirouette.ipynb\" target=\"_parent\"><img src=\"https://colab.research.google.com/assets/colab-badge.svg\" alt=\"Open In Colab\"/></a>"
      ]
    },
    {
      "cell_type": "markdown",
      "metadata": {
        "id": "bBuqNCR0Wtc0"
      },
      "source": [
        "# 化学走性シミュレーション(ピルエット機構)"
      ]
    },
    {
      "cell_type": "code",
      "metadata": {
        "id": "ihb3DH9GWpTF"
      },
      "source": [
        "import numpy as np\n",
        "import math\n",
        "import matplotlib.pyplot as plt"
      ],
      "execution_count": null,
      "outputs": []
    },
    {
      "cell_type": "code",
      "metadata": {
        "id": "1s-HMZYyfq7U"
      },
      "source": [
        "num_animals = 100 # 個体数\n",
        "max_time = 100    # シミュレーション時間\n",
        "speed = 15        # 移動速度\n",
        "turn_base = 0.01  # 方向転換パラメータ\n",
        "turn_coeff = -1   # 方向転換パラメータ\n",
        "\n",
        "width = 1000\n",
        "height = 1000"
      ],
      "execution_count": null,
      "outputs": []
    },
    {
      "cell_type": "markdown",
      "metadata": {
        "id": "IeWTMzRrnqCi"
      },
      "source": [
        "### 化学物質濃度勾配を作成\n",
        "濃度勾配を作成します。  \n",
        "今回はピークの座標 (x, y)を設定し、ピークからの(ユークリッド)距離を濃度勾配とします。  \n",
        "作成後に、試しに勾配をプロットしてみましょう。   "
      ]
    },
    {
      "cell_type": "code",
      "metadata": {
        "id": "5u7x3GqznwOr"
      },
      "source": [
        "def set_peak(x,y):\n",
        "    gradient = np.zeros([height,width])\n",
        "    for h in range(height):\n",
        "        for w in range(width):\n",
        "            gradient[h,w] = 255 - np.sqrt((h-y)**2+ (w-x)**2)/5\n",
        "    return gradient\n",
        "\n",
        "gradient = set_peak(100,100)\n",
        "plt.imshow(gradient)"
      ],
      "execution_count": null,
      "outputs": []
    },
    {
      "cell_type": "markdown",
      "metadata": {
        "id": "T2RdfolznuDw"
      },
      "source": [
        "### シミュレーション"
      ]
    },
    {
      "cell_type": "markdown",
      "metadata": {
        "id": "wsqRjTydrmm9"
      },
      "source": [
        "線虫の行動シミュレーションを行います。  \n",
        "\n",
        "2箇所、課題がありますので各自考えてみましょう。  \n",
        "**課題1   \n",
        "動物が画像の外に逃げないように、動物のx座標またはy座標が範囲を超えそうだったら、進行方向を反転させるコードを書く。**  \n",
        "\n",
        "**課題2    \n",
        "ランダムな方向転換を起こすかどうか、誘引物質の濃度変化に基づいて判断するコードを書く。**  \n",
        "ヒント  \n",
        "方向転換する確率は例えば以下のように計算できます。  \n",
        "\n",
        "\n",
        "``` python\n",
        "(誘引物質の濃度変化) * turn_coeff + turnbase\n",
        "```\n",
        "\n",
        "\n",
        "\n",
        "一定の確率pで方向転換を起こさせるには以下のようにするとできます。   \n",
        "\n",
        "``` python\n",
        "if np.random.rand() <= p:\n",
        "    方向転換\n",
        "```\n",
        "\n",
        "\n",
        "\n",
        "\n",
        "\n"
      ]
    },
    {
      "cell_type": "code",
      "source": [
        "# 化学物質の濃度を線形補間によって取得するためのコード\n",
        "from scipy.interpolate import RegularGridInterpolator\n",
        "y_axis = np.arange(height)\n",
        "x_axis = np.arange(width)\n",
        "interpolator = RegularGridInterpolator(\n",
        "    (y_axis, x_axis), gradient, bounds_error=False, fill_value=None\n",
        ")\n",
        "def func_gradient(y,x):\n",
        "  points = np.stack([y,x],axis=-1)\n",
        "  return interpolator(points)"
      ],
      "metadata": {
        "id": "ToGZE1Lqw1tp"
      },
      "execution_count": null,
      "outputs": []
    },
    {
      "cell_type": "code",
      "metadata": {
        "id": "7566C7eef1rW"
      },
      "source": [
        "trajectory_x = np.zeros((num_animals,max_time+1)) # 動物の軌跡(x座標)を記録するための配列\n",
        "trajectory_y = np.zeros((num_animals,max_time+1)) # 動物の軌跡(x座標)を記録するための配列\n",
        "\n",
        "for c in range(num_animals):\n",
        "    x_old = np.random.rand()*width         # 最初のx座標を設定\n",
        "    y_old = np.random.rand()*height        # 最初のy座標を設定\n",
        "\n",
        "    conc_old = func_gradient(y_old,x_old)  # 化学物質濃度を取得\n",
        "\n",
        "    direction = np.random.rand()*2*math.pi # 進行方向をランダムに決定\n",
        "    dx = speed*np.cos(direction)           # x方向の移動量を計算\n",
        "    dy = speed*np.sin(direction)           # y方向の移動量を計算\n",
        "\n",
        "    trajectory_x[c,0] = x_old\n",
        "    trajectory_y[c,0] = y_old\n",
        "\n",
        "\n",
        "\n",
        "    for t in range(max_time):\n",
        "        x_new = x_old + dx # 新しい時刻のx座標を設定\n",
        "        y_new = y_old + dy # 新しい時刻のy座標を設定\n",
        "\n",
        "\n",
        "        ### code here ##\n",
        "        # 課題1 動物が画像の外に逃げないように、Animalのx座標またはy座標が範囲を超えそうだったら、進行方向を反転させるコードをここに書く。\n",
        "\n",
        "\n",
        "        ### code end ###\n",
        "\n",
        "\n",
        "        ### code here ###\n",
        "        # 課題2 ランダムな方向転換を起こすかどうか、誘引物質の濃度変化に基づいて判断するコードをここに書く。\n",
        "\n",
        "\n",
        "\n",
        "        ### code end ###\n",
        "\n",
        "        x_old = x_new # 時間を進めるため、1つ前の座標を現在の座標で置き換える\n",
        "        y_old = y_new # 時間を進めるため、1つ前の座標を現在の座標で置き換える\n",
        "\n",
        "        trajectory_x[c,t+1] = x_old\n",
        "        trajectory_y[c,t+1] = y_old"
      ],
      "execution_count": null,
      "outputs": []
    },
    {
      "cell_type": "markdown",
      "metadata": {
        "id": "WQWGuTnLnUAA"
      },
      "source": [
        "### 軌跡のプロット"
      ]
    },
    {
      "cell_type": "code",
      "source": [
        "import matplotlib.animation as animation\n",
        "from IPython.display import HTML\n",
        "\n",
        "fig, ax = plt.subplots(figsize=(6,6))\n",
        "ax.imshow(gradient)\n",
        "head = []\n",
        "body = []\n",
        "\n",
        "for c in range(num_animals):\n",
        "    h, = ax.plot(trajectory_x[c,1], trajectory_y[c,1], \".\", c=\"white\", lw=2, alpha=0.6)\n",
        "    b, = ax.plot(trajectory_x[c,0:2], trajectory_y[c,0:2], \"-\", c=\"white\", lw=2, alpha=0.6)\n",
        "    head.append(h)\n",
        "    body.append(b)\n",
        "\n",
        "def wormplot(t):\n",
        "    for c in range(num_animals):\n",
        "        head[c].set_data([trajectory_x[c,t+1]], [trajectory_y[c,t+1]])\n",
        "        body[c].set_data(trajectory_x[c,t:t+2], trajectory_y[c,t:t+2])  # ← 軌跡を伸ばして体に見せる\n",
        "    ax.set_xlim(0, 1000)\n",
        "    ax.set_ylim(0, 1000)\n",
        "    ax.set_title(f't={t}', y=-0.15)\n",
        "    return head + body  # アニメーションで更新対象を返すとより安定\n",
        "\n",
        "ani = animation.FuncAnimation(fig, wormplot, interval=100, frames=max_time, blit=True)\n",
        "HTML(ani.to_html5_video())"
      ],
      "metadata": {
        "id": "-QTMkDtMOh3s"
      },
      "execution_count": null,
      "outputs": []
    },
    {
      "cell_type": "markdown",
      "source": [
        "**課題3\n",
        "任意の1個体が感じた化学物質濃度の時系列をプロットしてみましょう**"
      ],
      "metadata": {
        "id": "A_XDnNb_Txdk"
      }
    },
    {
      "cell_type": "code",
      "source": [
        "###### 以下に記載\n"
      ],
      "metadata": {
        "id": "82Sptk9iTw5Q"
      },
      "execution_count": null,
      "outputs": []
    },
    {
      "cell_type": "markdown",
      "source": [
        "**課題4\n",
        "全個体が感じた化学物質濃度の時系列の平均と標準偏差をプロットしてみましょう**\n",
        "\n",
        "ヒント: 平均値や標準偏差をデータの最初の軸について計算するには\n",
        "``` python\n",
        "np.mean(conc,axis=0)\n",
        "np.std(conc,axis=0)\n",
        "```\n",
        "などとします。"
      ],
      "metadata": {
        "id": "E5nQ99VU1KZp"
      }
    },
    {
      "cell_type": "code",
      "source": [
        "###### 以下に記載\n"
      ],
      "metadata": {
        "id": "5C3_06VgWAcM"
      },
      "execution_count": null,
      "outputs": []
    },
    {
      "cell_type": "markdown",
      "metadata": {
        "id": "gv2wOYQWts1p"
      },
      "source": [
        "### まとめ\n",
        "おめでとうございます。走性行動のシミュレーションに成功しました！  \n",
        "走性行動は動物の基本的な行動戦略のひとつです。走性行動を生み出すメカニズム(例えば方向転換確率の決め方)は多数ありますので、色々と試してみてください。  \n"
      ]
    },
    {
      "cell_type": "markdown",
      "source": [
        "**課題5(オプション) 複数個体について並列に計算するように改変してください**\n",
        "\n",
        "今回のシミュレーションは行列計算を用いて並列化することで、より速く実行することが可能です。興味のある方は試してみてください。  "
      ],
      "metadata": {
        "id": "UArlGSZv7EFe"
      }
    },
    {
      "cell_type": "code",
      "source": [
        "#### 行列計算(並列実行)バージョン\n",
        "trajectory_x = np.zeros((num_animals,max_time+1)) # 動物の軌跡(x座標)を記録するための配列\n",
        "trajectory_y = np.zeros((num_animals,max_time+1)) # 動物の軌跡(x座標)を記録するための配列\n",
        "\n",
        "# for c in range(num_animals):\n",
        "x_old = np.random.rand(num_animals)*width         # 最初のx座標を設定\n",
        "y_old = np.random.rand(num_animals)*height        # 最初のy座標を設定\n",
        "\n",
        "conc_old = func_gradient(y_old,x_old)\n",
        "\n",
        "direction = np.random.rand(num_animals)*2*math.pi # 進行方向をランダムに決定\n",
        "dx = speed*np.cos(direction)           # x方向の移動量を計算\n",
        "dy = speed*np.sin(direction)           # y方向の移動量を計算\n",
        "\n",
        "trajectory_x[:,0] = x_old\n",
        "trajectory_y[:,0] = y_old\n",
        "\n",
        "for t in range(max_time):\n",
        "    x_new = x_old + dx # 新しい時刻のx座標を設定\n",
        "    y_new = y_old + dy # 新しい時刻のy座標を設定\n",
        "\n",
        "\n",
        "    ### code here ##\n",
        "    # 課題 動物が画像の外に逃げないように、Animalのx座標またはy座標が範囲を超えそうだったら、進行方向を反転させるコードをここに書く。\n",
        "\n",
        "\n",
        "    ### code end ###\n",
        "\n",
        "\n",
        "    ### code here ###\n",
        "    # 課題 ランダムな方向転換を起こすかどうか、誘引物質の濃度変化に基づいて判断するコードをここに書く。\n",
        "\n",
        "\n",
        "    ### code end ###\n",
        "\n",
        "    x_old = x_new # 時間を進めるため、1つ前の座標を現在の座標で置き換える\n",
        "    y_old = y_new # 時間を進めるため、1つ前の座標を現在の座標で置き換える\n",
        "\n",
        "    trajectory_x[:,t+1] = x_old\n",
        "    trajectory_y[:,t+1] = y_old"
      ],
      "metadata": {
        "id": "eeG8cMnu1ljO"
      },
      "execution_count": null,
      "outputs": []
    },
    {
      "cell_type": "code",
      "source": [
        "fig, ax = plt.subplots(figsize=(6,6))\n",
        "ax.imshow(gradient)\n",
        "head = []\n",
        "body = []\n",
        "\n",
        "for c in range(num_animals):\n",
        "    h, = ax.plot(trajectory_x[c,1], trajectory_y[c,1], \".\", c=\"white\", lw=2, alpha=0.6)\n",
        "    b, = ax.plot(trajectory_x[c,0:2], trajectory_y[c,0:2], \"-\", c=\"white\", lw=2, alpha=0.6)\n",
        "    head.append(h)\n",
        "    body.append(b)\n",
        "\n",
        "ani = animation.FuncAnimation(fig, wormplot, interval=100, frames=max_time, blit=True)\n",
        "HTML(ani.to_html5_video())"
      ],
      "metadata": {
        "id": "GN4Fz7Es5G4M"
      },
      "execution_count": null,
      "outputs": []
    }
  ]
}