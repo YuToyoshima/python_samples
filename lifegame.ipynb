{
  "nbformat": 4,
  "nbformat_minor": 0,
  "metadata": {
    "colab": {
      "provenance": [],
      "authorship_tag": "ABX9TyNNyJ8Mnj6YJxFs8SYJEBC4",
      "include_colab_link": true
    },
    "kernelspec": {
      "name": "python3",
      "display_name": "Python 3"
    },
    "language_info": {
      "name": "python"
    }
  },
  "cells": [
    {
      "cell_type": "markdown",
      "metadata": {
        "id": "view-in-github",
        "colab_type": "text"
      },
      "source": [
        "<a href=\"https://colab.research.google.com/github/YuToyoshima/python_samples/blob/main/lifegame.ipynb\" target=\"_parent\"><img src=\"https://colab.research.google.com/assets/colab-badge.svg\" alt=\"Open In Colab\"/></a>"
      ]
    },
    {
      "cell_type": "code",
      "execution_count": null,
      "metadata": {
        "id": "btjrSm8lJUhb"
      },
      "outputs": [],
      "source": [
        "# Conway's Game of Life on Google Colab\n",
        "# Animation using matplotlib\n",
        "# Author: Converted from MATLAB version by Yu Toyoshima\n",
        "\n",
        "import numpy as np\n",
        "import matplotlib.pyplot as plt\n",
        "import matplotlib.animation as animation\n",
        "from IPython.display import HTML\n",
        "\n",
        "\n",
        "# ========== 初期パターン生成関数 ==========\n",
        "def glider(im, pos_shift=None):\n",
        "    if pos_shift is None:\n",
        "        pos_shift = np.array(im.shape) // 2\n",
        "    pos = np.array([[0,0,0,1,2],\n",
        "                    [0,1,2,0,1]]) + pos_shift[:,None]\n",
        "    im[pos[0], pos[1]] = True\n",
        "    return im\n",
        "\n",
        "def pentadecathlon(im, pos_shift=None):\n",
        "    if pos_shift is None:\n",
        "        pos_shift = np.array(im.shape) // 2\n",
        "    pos = np.array([np.zeros(10, dtype=int),\n",
        "                    np.arange(10)]) + pos_shift[:,None]\n",
        "    im[pos[0], pos[1]] = True\n",
        "    return im\n",
        "\n",
        "def switchengine(im, pos_shift=None):\n",
        "    if pos_shift is None:\n",
        "        pos_shift = np.array(im.shape) // 2\n",
        "    pos = np.array([[1,0,1,3,3,4,4,5, 0, 1, 0, 1],\n",
        "                    [0,1,2,0,3,2,3,3,13,13,14,14]]) + pos_shift[:,None]\n",
        "    im[pos[0], pos[1]] = True\n",
        "    return im\n",
        "\n",
        "def glidergun(im, pos_shift=None):\n",
        "    if pos_shift is None:\n",
        "        pos_shift = np.array(im.shape) // 2\n",
        "    pos = np.array([\n",
        "        [ 0, 1, 0, 1,12,13,11,10,10,10,11,12,13,15,16,16,17,16,\n",
        "          15,14,20,20,20,21,21,21,22,22,24,24,24,24,34,35,34,35],\n",
        "        [ 4, 4, 5, 5, 2, 2, 3, 4, 5, 6, 7, 8, 8, 3, 4, 5, 5, 6,\n",
        "          7, 5, 2, 3, 4, 2, 3, 4, 1, 5, 0, 1, 5, 6, 2, 2, 3, 3]\n",
        "    ]) + pos_shift[:,None]\n",
        "    im[pos[0], pos[1]] = True\n",
        "    return im\n",
        "\n",
        "\n",
        "\n",
        "# ========== アニメーション部分 ==========\n",
        "def animate_lifegame():\n",
        "    width, height, max_time = 100, 100, 200\n",
        "    imAll = lifegame(width, height, max_time)\n",
        "\n",
        "    fig, ax = plt.subplots(figsize=(6,6))\n",
        "    img = ax.imshow(imAll[0], cmap='binary', interpolation='nearest')\n",
        "    ax.axis('off')\n",
        "    ax.set_title(\"Conway's Game of Life\")\n",
        "\n",
        "    def update(frame):\n",
        "        img.set_data(imAll[frame])\n",
        "        ax.set_title(f\"Frame {frame}\")\n",
        "        return [img]\n",
        "\n",
        "    ani = animation.FuncAnimation(fig, update, frames=max_time, interval=100, blit=True)\n",
        "    return HTML(ani.to_html5_video())\n"
      ]
    },
    {
      "cell_type": "markdown",
      "source": [
        "*以下のlifegame 関数は、シミュレーションに必要なコードが欠けています。*\n",
        "\n",
        "**課題1 隣接したセルのうち生きているセルを数えるコードを書きなさい**\n",
        "\n",
        "**課題2 次の時刻の各セルの生死を判定するコードを書きなさい**\n",
        "\n",
        "**課題3 gliderやpentadecathlonなどが正しく動くか確認しなさい**\n",
        "\n",
        "**課題4 (オプション)いずれかの振動子の周期を推定するコードを書きなさい**\n",
        "\n",
        "**課題5 (オプション)周辺のピクセル数を数えるコードを複数書き、実行時間を比較しなさい**\n",
        "\n",
        "**課題6 (オプション)周期境界条件を実装しなさい**"
      ],
      "metadata": {
        "id": "Bomq3MZrPJ0u"
      }
    },
    {
      "cell_type": "code",
      "source": [
        "\n",
        "# ========== ライフゲーム本体 ==========\n",
        "def lifegame(width=100, height=100, max_time=1000):\n",
        "    im0 = np.zeros((width, height), dtype=bool)\n",
        "    im0 = glidergun(im0, np.array([width//2, height//2]))\n",
        "\n",
        "    imAll = np.zeros((max_time, width, height), dtype=bool)\n",
        "    imAll[0] = im0\n",
        "\n",
        "    ######## ここに記載\n",
        "\n",
        "    #######\n",
        "\n",
        "    return imAll\n"
      ],
      "metadata": {
        "id": "I9_UB7_7MCsM"
      },
      "execution_count": null,
      "outputs": []
    },
    {
      "cell_type": "code",
      "source": [
        "# 実行\n",
        "animate_lifegame()\n"
      ],
      "metadata": {
        "id": "MXWg10rFMFSo"
      },
      "execution_count": null,
      "outputs": []
    }
  ]
}